{
 "cells": [
  {
   "cell_type": "markdown",
   "metadata": {
    "collapsed": true,
    "pycharm": {
     "name": "#%% md\n"
    }
   },
   "source": [
    "# The configuration module\n",
    "\n",
    "accsr provides utilities for reading configuration from a hierarchy of files and customizing access to them. In\n",
    "this notebook we show some use case examples for this."
   ]
  },
  {
   "cell_type": "code",
   "execution_count": null,
   "outputs": [],
   "source": [
    "from accsr.config import ConfigProviderBase, DefaultDataConfiguration, ConfigurationBase\n",
    "from accsr.remote_storage import RemoteStorage, RemoteStorageConfig"
   ],
   "metadata": {
    "collapsed": false,
    "pycharm": {
     "name": "#%%\n"
    }
   }
  },
  {
   "cell_type": "markdown",
   "source": [
    "## Setting up configuration\n",
    "\n",
    "The recommended way of using accsr's configuration utils is to create a module called `config.py` within your project\n",
    "and setup classes and methods for managing and providing configuration. In the cell below we show a minimal example\n",
    "of such a file.\n",
    "\n",
    "Under the hood the config provider is reading out the `__Configuration` class from generics at runtime and makes sure\n",
    "that only one global instance of your custom `__Configuration` exists in memory. Don't worry if you are unfamiliar\n",
    "with the coding patterns used here - you don't need to understand them to use the config utils.\n",
    "You will probably never need to adjust the `ConfigProvider` related code."
   ],
   "metadata": {
    "collapsed": false,
    "pycharm": {
     "name": "#%% md\n"
    }
   }
  },
  {
   "cell_type": "code",
   "execution_count": null,
   "outputs": [],
   "source": [
    "class __Configuration(ConfigurationBase):\n",
    "    pass\n",
    "\n",
    "\n",
    "class ConfigProvider(ConfigProviderBase[__Configuration]):\n",
    "    pass\n",
    "\n",
    "\n",
    "_config_provider = ConfigProvider()\n",
    "\n",
    "\n",
    "def get_config(reload=False) -> __Configuration:\n",
    "    \"\"\"\n",
    "    :param reload: if True, the configuration will be reloaded from the json files\n",
    "    :return: the configuration instance\n",
    "    \"\"\"\n",
    "    return _config_provider.get_config(reload=reload)"
   ],
   "metadata": {
    "collapsed": false,
    "pycharm": {
     "name": "#%%\n"
    }
   }
  },
  {
   "cell_type": "code",
   "execution_count": null,
   "outputs": [],
   "source": [
    "# TODO: extend notebook\n"
   ],
   "metadata": {
    "collapsed": false,
    "pycharm": {
     "name": "#%%\n"
    }
   }
  }
 ],
 "metadata": {
  "kernelspec": {
   "display_name": "Python 3",
   "language": "python",
   "name": "python3"
  },
  "language_info": {
   "codemirror_mode": {
    "name": "ipython",
    "version": 2
   },
   "file_extension": ".py",
   "mimetype": "text/x-python",
   "name": "python",
   "nbconvert_exporter": "python",
   "pygments_lexer": "ipython2",
   "version": "2.7.6"
  }
 },
 "nbformat": 4,
 "nbformat_minor": 0
}